{
 "cells": [
  {
   "cell_type": "code",
   "execution_count": null,
   "id": "baa32155-7b2e-4708-aba9-1ece7b707010",
   "metadata": {},
   "outputs": [],
   "source": [
    "# python\n",
    "# Assignment No - 1"
   ]
  },
  {
   "cell_type": "code",
   "execution_count": 5,
   "id": "f36b1904-7f50-4b0f-ae16-fe56e8d1a4bf",
   "metadata": {},
   "outputs": [],
   "source": [
    "# Q-1\n",
    "\n",
    "# 1)\n",
    "my_string = \" Hello, sir/Mam \"\n",
    "# 2)\n",
    "my_list = [1,2,3,\" faraaz khan \",2.03]\n",
    "# 3)\n",
    "my_float = 2.036\n",
    "# 4)\n",
    "my_tuple = (10, 20, 30, 40, 50, \" isro \")"
   ]
  },
  {
   "cell_type": "code",
   "execution_count": null,
   "id": "3525996d-f599-42cb-9061-e52f66222a52",
   "metadata": {},
   "outputs": [],
   "source": [
    "# Q-2\n",
    "\n",
    "# 1) Data type is string\n",
    "# 2) Data type is string\n",
    "# 3) Data type is list\n",
    "# 4) Data type is intiger"
   ]
  },
  {
   "cell_type": "code",
   "execution_count": null,
   "id": "ff58e05e-100d-4e8a-be67-1faa5dc40e86",
   "metadata": {},
   "outputs": [],
   "source": [
    "# Q-3\n",
    "\n",
    "# 1) / (Division Operator)\n",
    "# The division operator / divides numbers and gives a result with decimal places, regardless of whether the numbers are integers.\n",
    "result = 10 / 4\n",
    "print(result)  # Output: 2.5\n",
    "\n",
    "# 2) % (Modulo Operator):\n",
    "# The modulo operator % calculates the remainder when one number is divided by another.\n",
    "remainder = 10 % 3\n",
    "print(remainder)  # Output: 1\n",
    "\n",
    "# 3) // (Floor Division Operator):\n",
    "# The floor division operator // performs division and rounds down the result to the nearest integer. It discards the decimal part of the division result.\n",
    "result = 10 // 3\n",
    "print(result)  # Output: 3\n",
    "\n",
    "# 4)** (Exponentiation Operator):\n",
    "# The exponentiation operator ** raises a number to a certain power\n",
    "result = 2 ** 3\n",
    "print(result)  # Output: 8"
   ]
  },
  {
   "cell_type": "code",
   "execution_count": 7,
   "id": "572d882a-6ba5-409a-a177-8c4084bdabae",
   "metadata": {},
   "outputs": [
    {
     "name": "stdout",
     "output_type": "stream",
     "text": [
      "42 <class 'int'>\n",
      "Hello <class 'str'>\n",
      "3.14 <class 'float'>\n",
      "True <class 'bool'>\n",
      "[1, 2, 3] <class 'list'>\n",
      "('apple', 'banana') <class 'tuple'>\n",
      "{'key': 'value'} <class 'dict'>\n",
      "None <class 'NoneType'>\n",
      "-99 <class 'int'>\n",
      "7.5 <class 'float'>\n"
     ]
    }
   ],
   "source": [
    "# Q-4\n",
    "\n",
    "my_list = [42, \"Hello\", 3.14, True, [1, 2, 3], (\"apple\", \"banana\"), {'key': 'value'}, None, -99, 7.5]\n",
    "\n",
    "for item in my_list:\n",
    "    print(item, type(item))"
   ]
  },
  {
   "cell_type": "code",
   "execution_count": 9,
   "id": "0404cd1f-9edf-4080-98fc-b541b83fcaca",
   "metadata": {},
   "outputs": [
    {
     "name": "stdin",
     "output_type": "stream",
     "text": [
      "Enter A:  10\n",
      "Enter B:  2\n"
     ]
    },
    {
     "name": "stdout",
     "output_type": "stream",
     "text": [
      "0 is divisible by 2.\n",
      "It can be divided 5 times.\n"
     ]
    }
   ],
   "source": [
    "# Q-5\n",
    "\n",
    "a = int(input(\"Enter A: \"))\n",
    "b = int(input(\"Enter B: \"))\n",
    "\n",
    "if b == 0:\n",
    "    print(\"B should not be zero for division\")\n",
    "else:\n",
    "    quotient = 0\n",
    "    while a >= b:\n",
    "        a -= b\n",
    "        quotient += 1\n",
    "    \n",
    "    if a == 0:\n",
    "        print(f\"{a} is divisible by {b}.\")\n",
    "        print(f\"It can be divided {quotient} times.\")\n",
    "    else:\n",
    "        print(f\"{a} is not divisible by {b}.\")"
   ]
  },
  {
   "cell_type": "code",
   "execution_count": 10,
   "id": "eb3e0295-3361-402e-8f4e-15051d86abc9",
   "metadata": {},
   "outputs": [
    {
     "name": "stdout",
     "output_type": "stream",
     "text": [
      "12 is divisible by 3.\n",
      "7 is not divisible by 3.\n",
      "9 is divisible by 3.\n",
      "22 is not divisible by 3.\n",
      "15 is divisible by 3.\n",
      "30 is divisible by 3.\n",
      "6 is divisible by 3.\n",
      "18 is divisible by 3.\n",
      "4 is not divisible by 3.\n",
      "5 is not divisible by 3.\n",
      "27 is divisible by 3.\n",
      "14 is not divisible by 3.\n",
      "8 is not divisible by 3.\n",
      "21 is divisible by 3.\n",
      "10 is not divisible by 3.\n",
      "33 is divisible by 3.\n",
      "19 is not divisible by 3.\n",
      "25 is not divisible by 3.\n",
      "36 is divisible by 3.\n",
      "16 is not divisible by 3.\n",
      "3 is divisible by 3.\n",
      "29 is not divisible by 3.\n",
      "11 is not divisible by 3.\n",
      "24 is divisible by 3.\n",
      "31 is not divisible by 3.\n"
     ]
    }
   ],
   "source": [
    "# Q-6\n",
    "\n",
    "my_list = [12, 7, 9, 22, 15, 30, 6, 18, 4, 5, 27, 14, 8, 21, 10, 33, 19, 25, 36, 16, 3, 29, 11, 24, 31]\n",
    "\n",
    "for num in my_list:\n",
    "    if num % 3 == 0:\n",
    "        print(f\"{num} is divisible by 3.\")\n",
    "    else:\n",
    "        print(f\"{num} is not divisible by 3.\")"
   ]
  },
  {
   "cell_type": "code",
   "execution_count": 13,
   "id": "e29edb06-0c52-45e1-bf1a-b378cdcd1ea8",
   "metadata": {},
   "outputs": [
    {
     "name": "stdout",
     "output_type": "stream",
     "text": [
      "5\n",
      "[1, 2, 3, 4]\n"
     ]
    }
   ],
   "source": [
    "# Q-7\n",
    "\n",
    "# Immutable\n",
    "\"\"\" Immutable data types refer to those data types whose values remain unchanged once they are created. \n",
    "In order to modify an immutable object, a new object is generated with the desired alterations. \n",
    "Some instances of immutable data types are integers, floats, strings, and tuples.\"\"\"\n",
    "\n",
    "# Example of Immutable Data Type\n",
    "x = 5\n",
    "y = x  # y references the same value as x\n",
    "\n",
    "x = 10  # Creating a new integer object with the value 10\n",
    "print(y)  # Output: 5 (y still holds the original value of 5)\n",
    "\n",
    "# Mutable\n",
    "\"\"\" Mutable data types are those whose values can be modified after creation. \n",
    "This means you can change their internal state without creating a new object. \n",
    "Examples of mutable data types include lists, dictionaries, and sets.\"\"\"\n",
    "\n",
    "# Example of Immutable Data Type\n",
    "list1 = [1, 2, 3]\n",
    "list2 = list1  # list2 references the same list object as list1\n",
    "\n",
    "list1.append(4)  # Modifying the list in-place by adding an element\n",
    "print(list2)  # Output: [1, 2, 3, 4] (list2 reflects the change made to list1)\n"
   ]
  },
  {
   "cell_type": "code",
   "execution_count": null,
   "id": "1755203e-80f6-4186-be44-2ad69c4907cf",
   "metadata": {},
   "outputs": [],
   "source": []
  }
 ],
 "metadata": {
  "kernelspec": {
   "display_name": "Python 3 (ipykernel)",
   "language": "python",
   "name": "python3"
  },
  "language_info": {
   "codemirror_mode": {
    "name": "ipython",
    "version": 3
   },
   "file_extension": ".py",
   "mimetype": "text/x-python",
   "name": "python",
   "nbconvert_exporter": "python",
   "pygments_lexer": "ipython3",
   "version": "3.10.8"
  }
 },
 "nbformat": 4,
 "nbformat_minor": 5
}
